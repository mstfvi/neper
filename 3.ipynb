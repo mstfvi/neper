{
 "cells": [
  {
   "cell_type": "markdown",
   "metadata": {},
   "source": [
    "توضیحات در گزارش نوشته شده است"
   ]
  },
  {
   "cell_type": "code",
   "execution_count": null,
   "metadata": {},
   "outputs": [],
   "source": [
    "import random \n",
    "import numpy as np\n",
    "from pyspark import SparkContext\n",
    "sc = SparkContext(\"local\", \"first app\")"
   ]
  },
  {
   "cell_type": "markdown",
   "metadata": {},
   "source": [
    "N می تواند هر میزانی تعیین شود"
   ]
  },
  {
   "cell_type": "code",
   "execution_count": 112,
   "metadata": {},
   "outputs": [],
   "source": [
    "N = 10000\n",
    "numbers = [np.random.random() for i in range(N)]"
   ]
  },
  {
   "cell_type": "code",
   "execution_count": 113,
   "metadata": {},
   "outputs": [],
   "source": [
    "baskets = []\n",
    "basket = []\n",
    "s1 = 0\n",
    "s2 = 0\n",
    "for i in range (len(numbers)):\n",
    "    basket.append(numbers[i])\n",
    "    if s1<1:\n",
    "        s1 += numbers[i]\n",
    "    if s2<1:\n",
    "        s2 += 1-numbers[i]\n",
    "    if (s1>1) & (s2>1):\n",
    "        baskets.append(basket)\n",
    "        basket = []\n",
    "        s1 = 0\n",
    "        s2 = 0        "
   ]
  },
  {
   "cell_type": "code",
   "execution_count": 114,
   "metadata": {},
   "outputs": [],
   "source": [
    "sequence_rdd = sc.parallelize(baskets)"
   ]
  },
  {
   "cell_type": "code",
   "execution_count": 115,
   "metadata": {},
   "outputs": [
    {
     "data": {
      "text/plain": [
       "[[0.8828226006084046, 0.5455095916112919, 0.2436650060615838],\n",
       " [0.569777130033918, 0.7042653880966929, 0.5258572466866691],\n",
       " [0.9163973519165393, 0.07232984183007207, 0.8971983272308149],\n",
       " [0.34298823046630156, 0.39037343767985666, 0.5985466221470804],\n",
       " [0.8515590328669205, 0.7413743617357431, 0.07691247390693923],\n",
       " [0.23874315438194038, 0.2101036729747624, 0.8630205216256915],\n",
       " [0.5918133718969466, 0.264641425867154, 0.6761800773624409],\n",
       " [0.14825907182437714, 0.6726725916034675, 0.32897905361618696],\n",
       " [0.9838649755369718, 0.16768492747448693, 0.7706436413716486],\n",
       " [0.7047034178236206, 0.6249783903149617, 0.008194225591764526]]"
      ]
     },
     "execution_count": 115,
     "metadata": {},
     "output_type": "execute_result"
    }
   ],
   "source": [
    "sequence_rdd.take(10)"
   ]
  },
  {
   "cell_type": "code",
   "execution_count": 116,
   "metadata": {},
   "outputs": [],
   "source": [
    "def mapper1(s):\n",
    "    N1=0\n",
    "    N2=0\n",
    "    s1 = 0\n",
    "    s2 = 0\n",
    "    for i in (range(len(s))):\n",
    "        if s1<1:\n",
    "            s1 += s[i]\n",
    "            N1 += 1\n",
    "        if s2<1:\n",
    "            s2 += 1-s[i]\n",
    "            N2 += 1\n",
    "    return ((N1+N2)/2,1)"
   ]
  },
  {
   "cell_type": "code",
   "execution_count": 117,
   "metadata": {},
   "outputs": [],
   "source": [
    "s_map1 = sequence_rdd.map(mapper1)\n",
    "s_count = s_map1.count()"
   ]
  },
  {
   "cell_type": "markdown",
   "metadata": {},
   "source": [
    "تعداد مجموعه ها"
   ]
  },
  {
   "cell_type": "code",
   "execution_count": 119,
   "metadata": {},
   "outputs": [
    {
     "data": {
      "text/plain": [
       "2912"
      ]
     },
     "execution_count": 119,
     "metadata": {},
     "output_type": "execute_result"
    }
   ],
   "source": [
    "s_count"
   ]
  },
  {
   "cell_type": "code",
   "execution_count": 120,
   "metadata": {},
   "outputs": [],
   "source": [
    "s_red1 = s_map1.reduceByKey(lambda a, b : a+b )\n"
   ]
  },
  {
   "cell_type": "code",
   "execution_count": 121,
   "metadata": {},
   "outputs": [],
   "source": [
    "def mapper2(d):\n",
    "    return (1, d[0]*d[1])"
   ]
  },
  {
   "cell_type": "code",
   "execution_count": 122,
   "metadata": {},
   "outputs": [],
   "source": [
    "s_map2 = s_red1.map(mapper2)"
   ]
  },
  {
   "cell_type": "code",
   "execution_count": 123,
   "metadata": {},
   "outputs": [
    {
     "data": {
      "text/plain": [
       "[(1, 4855.0), (1, 168.0), (1, 2193.0), (1, 668.5), (1, 5.0)]"
      ]
     },
     "execution_count": 123,
     "metadata": {},
     "output_type": "execute_result"
    }
   ],
   "source": [
    "s_map2.take(5)"
   ]
  },
  {
   "cell_type": "code",
   "execution_count": 124,
   "metadata": {},
   "outputs": [
    {
     "data": {
      "text/plain": [
       "2.717032967032967"
      ]
     },
     "execution_count": 124,
     "metadata": {},
     "output_type": "execute_result"
    }
   ],
   "source": [
    "s_red2= s_map2.reduceByKey(lambda a,b:a+b)\n",
    "e = s_red2.take(2)[0][1]/ s_count\n",
    "e"
   ]
  }
 ],
 "metadata": {
  "kernelspec": {
   "display_name": "Python 3",
   "language": "python",
   "name": "python3"
  },
  "language_info": {
   "codemirror_mode": {
    "name": "ipython",
    "version": 3
   },
   "file_extension": ".py",
   "mimetype": "text/x-python",
   "name": "python",
   "nbconvert_exporter": "python",
   "pygments_lexer": "ipython3",
   "version": "3.7.6"
  }
 },
 "nbformat": 4,
 "nbformat_minor": 4
}
